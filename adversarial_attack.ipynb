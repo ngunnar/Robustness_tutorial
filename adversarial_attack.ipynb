{
 "cells": [
  {
   "cell_type": "code",
   "execution_count": 17,
   "metadata": {},
   "outputs": [],
   "source": [
    "import tensorflow as tf\n",
    "import tensorflow.keras.layers as layers\n",
    "import numpy as np\n",
    "import matplotlib.pyplot as plt\n",
    "from scipy import ndimage, misc"
   ]
  },
  {
   "cell_type": "code",
   "execution_count": 2,
   "metadata": {},
   "outputs": [],
   "source": [
    "(x_train, y_train), (x_test, y_test) = tf.keras.datasets.mnist.load_data()"
   ]
  },
  {
   "cell_type": "code",
   "execution_count": 3,
   "metadata": {},
   "outputs": [
    {
     "name": "stdout",
     "output_type": "stream",
     "text": [
      "x_train shape: (60000, 28, 28, 1)\n",
      "y_train shape: (60000, 10)\n",
      "Number of images in x_train 60000\n",
      "Number of images in x_test 10000\n"
     ]
    }
   ],
   "source": [
    "# Reshaping the array to 4-dims so that it can work with the Keras API\n",
    "x_train = x_train.reshape(x_train.shape[0], 28, 28, 1)\n",
    "x_test = x_test.reshape(x_test.shape[0], 28, 28, 1)\n",
    "input_shape = (28, 28, 1)\n",
    "# Making sure that the values are float so that we can get decimal points after division\n",
    "x_train = x_train.astype('float32')\n",
    "x_test = x_test.astype('float32')\n",
    "# Normalizing the RGB codes by dividing it to the max RGB value.\n",
    "x_train /= 255\n",
    "x_test /= 255\n",
    "\n",
    "y_train = tf.one_hot(y_train, 10)\n",
    "y_test = tf.one_hot(y_test, 10)\n",
    "print('x_train shape:', x_train.shape)\n",
    "print('y_train shape:', y_train.shape)\n",
    "print('Number of images in x_train', x_train.shape[0])\n",
    "print('Number of images in x_test', x_test.shape[0])"
   ]
  },
  {
   "cell_type": "code",
   "execution_count": 4,
   "metadata": {},
   "outputs": [],
   "source": [
    "def get_simple_model(input_shape):\n",
    "    model = tf.keras.Sequential()\n",
    "    model.add(layers.Flatten(input_shape=input_shape))\n",
    "    model.add(layers.Dense(400, activation='relu'))\n",
    "    model.add(layers.Dense(200, activation='relu'))\n",
    "    model.add(layers.Dense(10,activation=tf.nn.softmax))\n",
    "    return model\n",
    "\n",
    "def get_regularized_model(input_shape):\n",
    "    dropout = 0.05\n",
    "    model = tf.keras.Sequential()\n",
    "    model.add(layers.Flatten(input_shape=input_shape))\n",
    "    model.add(layers.Dropout(dropout))\n",
    "    model.add(layers.Dense(400, activation='relu'))\n",
    "    model.add(layers.Dropout(dropout))\n",
    "    model.add(layers.Dense(200, activation='relu'))\n",
    "    model.add(layers.Dense(10,activation=tf.nn.softmax))\n",
    "    return model\n",
    "\n",
    "def get_robust_model(input_shape):\n",
    "    dropout = 0.05\n",
    "    inputs = layers.Input(shape= input_shape)\n",
    "    x = layers.Flatten()(inputs)\n",
    "    x = layers.Dropout(dropout)(x, training=True)\n",
    "    x = layers.Dense(400, activation='relu')(x)\n",
    "    x = layers.Dropout(dropout)(x, training=True)\n",
    "    x = layers.Dense(200, activation='relu')(x)\n",
    "    out = layers.Dense(10, activation=tf.nn.softmax)(x)\n",
    "    return tf.keras.Model(inputs, out)\n",
    "\n",
    "def predict_robust(model, x):\n",
    "    y = []\n",
    "    for _ in range(10):\n",
    "        y.append(model(x))\n",
    "    y_mean = np.mean(y, axis=0)\n",
    "    y_var = np.var(y, axis=0)\n",
    "    return y, tf.convert_to_tensor(y_mean), tf.convert_to_tensor(y_var)"
   ]
  },
  {
   "cell_type": "code",
   "execution_count": 5,
   "metadata": {},
   "outputs": [
    {
     "name": "stdout",
     "output_type": "stream",
     "text": [
      "Model: \"sequential\"\n",
      "_________________________________________________________________\n",
      "Layer (type)                 Output Shape              Param #   \n",
      "=================================================================\n",
      "flatten (Flatten)            (None, 784)               0         \n",
      "_________________________________________________________________\n",
      "dense (Dense)                (None, 400)               314000    \n",
      "_________________________________________________________________\n",
      "dense_1 (Dense)              (None, 200)               80200     \n",
      "_________________________________________________________________\n",
      "dense_2 (Dense)              (None, 10)                2010      \n",
      "=================================================================\n",
      "Total params: 396,210\n",
      "Trainable params: 396,210\n",
      "Non-trainable params: 0\n",
      "_________________________________________________________________\n"
     ]
    }
   ],
   "source": [
    "simple_model = get_simple_model((28,28,1))\n",
    "simple_model.summary()"
   ]
  },
  {
   "cell_type": "code",
   "execution_count": 6,
   "metadata": {},
   "outputs": [
    {
     "name": "stdout",
     "output_type": "stream",
     "text": [
      "Model: \"sequential_1\"\n",
      "_________________________________________________________________\n",
      "Layer (type)                 Output Shape              Param #   \n",
      "=================================================================\n",
      "flatten_1 (Flatten)          (None, 784)               0         \n",
      "_________________________________________________________________\n",
      "dropout (Dropout)            (None, 784)               0         \n",
      "_________________________________________________________________\n",
      "dense_3 (Dense)              (None, 400)               314000    \n",
      "_________________________________________________________________\n",
      "dropout_1 (Dropout)          (None, 400)               0         \n",
      "_________________________________________________________________\n",
      "dense_4 (Dense)              (None, 200)               80200     \n",
      "_________________________________________________________________\n",
      "dense_5 (Dense)              (None, 10)                2010      \n",
      "=================================================================\n",
      "Total params: 396,210\n",
      "Trainable params: 396,210\n",
      "Non-trainable params: 0\n",
      "_________________________________________________________________\n"
     ]
    }
   ],
   "source": [
    "regularized_model = get_regularized_model((28,28,1))\n",
    "regularized_model.summary()"
   ]
  },
  {
   "cell_type": "code",
   "execution_count": 7,
   "metadata": {},
   "outputs": [
    {
     "name": "stdout",
     "output_type": "stream",
     "text": [
      "Model: \"model\"\n",
      "_________________________________________________________________\n",
      "Layer (type)                 Output Shape              Param #   \n",
      "=================================================================\n",
      "input_1 (InputLayer)         [(None, 28, 28, 1)]       0         \n",
      "_________________________________________________________________\n",
      "flatten_2 (Flatten)          (None, 784)               0         \n",
      "_________________________________________________________________\n",
      "dropout_2 (Dropout)          (None, 784)               0         \n",
      "_________________________________________________________________\n",
      "dense_6 (Dense)              (None, 400)               314000    \n",
      "_________________________________________________________________\n",
      "dropout_3 (Dropout)          (None, 400)               0         \n",
      "_________________________________________________________________\n",
      "dense_7 (Dense)              (None, 200)               80200     \n",
      "_________________________________________________________________\n",
      "dense_8 (Dense)              (None, 10)                2010      \n",
      "=================================================================\n",
      "Total params: 396,210\n",
      "Trainable params: 396,210\n",
      "Non-trainable params: 0\n",
      "_________________________________________________________________\n"
     ]
    }
   ],
   "source": [
    "robust_model = get_robust_model((28,28,1))\n",
    "robust_model.summary()"
   ]
  },
  {
   "cell_type": "code",
   "execution_count": 8,
   "metadata": {},
   "outputs": [
    {
     "name": "stderr",
     "output_type": "stream",
     "text": [
      "WARNING: Logging before flag parsing goes to stderr.\n",
      "W0827 14:28:59.195183 53840 deprecation.py:323] From C:\\ProgramData\\Anaconda3\\envs\\tf2\\lib\\site-packages\\tensorflow\\python\\ops\\math_grad.py:1250: add_dispatch_support.<locals>.wrapper (from tensorflow.python.ops.array_ops) is deprecated and will be removed in a future version.\n",
      "Instructions for updating:\n",
      "Use tf.where in 2.0, which has the same broadcast rule as np.where\n"
     ]
    },
    {
     "name": "stdout",
     "output_type": "stream",
     "text": [
      "Train on 60000 samples, validate on 10000 samples\n",
      "Epoch 1/10\n",
      "60000/60000 [==============================] - 2s 34us/sample - loss: 0.2392 - accuracy: 0.9302 - val_loss: 0.1067 - val_accuracy: 0.9671\n",
      "Epoch 2/10\n",
      "60000/60000 [==============================] - 2s 28us/sample - loss: 0.0885 - accuracy: 0.9732 - val_loss: 0.0775 - val_accuracy: 0.9762\n",
      "Epoch 3/10\n",
      "60000/60000 [==============================] - 2s 28us/sample - loss: 0.0573 - accuracy: 0.9822 - val_loss: 0.0715 - val_accuracy: 0.9772\n",
      "Epoch 4/10\n",
      "60000/60000 [==============================] - 2s 29us/sample - loss: 0.0405 - accuracy: 0.9870 - val_loss: 0.0722 - val_accuracy: 0.9774\n",
      "Epoch 5/10\n",
      "60000/60000 [==============================] - 2s 27us/sample - loss: 0.0289 - accuracy: 0.9906 - val_loss: 0.0639 - val_accuracy: 0.9808\n",
      "Epoch 6/10\n",
      "60000/60000 [==============================] - 2s 27us/sample - loss: 0.0228 - accuracy: 0.9927 - val_loss: 0.0769 - val_accuracy: 0.9779\n",
      "Epoch 7/10\n",
      "60000/60000 [==============================] - 2s 28us/sample - loss: 0.0179 - accuracy: 0.9943 - val_loss: 0.0691 - val_accuracy: 0.9819\n",
      "Epoch 8/10\n",
      "60000/60000 [==============================] - 2s 27us/sample - loss: 0.0159 - accuracy: 0.9948 - val_loss: 0.0834 - val_accuracy: 0.9763\n",
      "Epoch 9/10\n",
      "60000/60000 [==============================] - 2s 27us/sample - loss: 0.0157 - accuracy: 0.9948 - val_loss: 0.0710 - val_accuracy: 0.9793\n",
      "Epoch 10/10\n",
      "60000/60000 [==============================] - 2s 28us/sample - loss: 0.0115 - accuracy: 0.9964 - val_loss: 0.0760 - val_accuracy: 0.9811\n"
     ]
    },
    {
     "data": {
      "text/plain": [
       "<tensorflow.python.keras.callbacks.History at 0x147d9047978>"
      ]
     },
     "execution_count": 8,
     "metadata": {},
     "output_type": "execute_result"
    }
   ],
   "source": [
    "simple_model.compile(optimizer='adam', \n",
    "              loss='categorical_crossentropy', \n",
    "              metrics=['accuracy'])\n",
    "simple_model.fit(x=x_train,y=y_train, batch_size=128, epochs=10, validation_data=(x_test, y_test))"
   ]
  },
  {
   "cell_type": "code",
   "execution_count": 9,
   "metadata": {},
   "outputs": [
    {
     "name": "stdout",
     "output_type": "stream",
     "text": [
      "Train on 60000 samples, validate on 10000 samples\n",
      "Epoch 1/10\n",
      "60000/60000 [==============================] - 3s 43us/sample - loss: 0.2593 - accuracy: 0.9241 - val_loss: 0.1069 - val_accuracy: 0.9662\n",
      "Epoch 2/10\n",
      "60000/60000 [==============================] - 2s 37us/sample - loss: 0.0987 - accuracy: 0.9697 - val_loss: 0.0900 - val_accuracy: 0.9709\n",
      "Epoch 3/10\n",
      "60000/60000 [==============================] - 2s 37us/sample - loss: 0.0677 - accuracy: 0.9780 - val_loss: 0.0684 - val_accuracy: 0.9774\n",
      "Epoch 4/10\n",
      "60000/60000 [==============================] - 2s 36us/sample - loss: 0.0531 - accuracy: 0.9830 - val_loss: 0.0604 - val_accuracy: 0.9800\n",
      "Epoch 5/10\n",
      "60000/60000 [==============================] - 2s 36us/sample - loss: 0.0400 - accuracy: 0.9870 - val_loss: 0.0731 - val_accuracy: 0.9778\n",
      "Epoch 6/10\n",
      "60000/60000 [==============================] - 2s 36us/sample - loss: 0.0334 - accuracy: 0.9891 - val_loss: 0.0670 - val_accuracy: 0.9787\n",
      "Epoch 7/10\n",
      "60000/60000 [==============================] - 2s 41us/sample - loss: 0.0269 - accuracy: 0.9912 - val_loss: 0.0758 - val_accuracy: 0.9780\n",
      "Epoch 8/10\n",
      "60000/60000 [==============================] - 2s 40us/sample - loss: 0.0275 - accuracy: 0.9906 - val_loss: 0.0683 - val_accuracy: 0.9820\n",
      "Epoch 9/10\n",
      "60000/60000 [==============================] - 2s 40us/sample - loss: 0.0240 - accuracy: 0.9923 - val_loss: 0.0716 - val_accuracy: 0.9817\n",
      "Epoch 10/10\n",
      "60000/60000 [==============================] - 2s 38us/sample - loss: 0.0221 - accuracy: 0.9925 - val_loss: 0.0666 - val_accuracy: 0.9820\n"
     ]
    },
    {
     "data": {
      "text/plain": [
       "<tensorflow.python.keras.callbacks.History at 0x147e6290c50>"
      ]
     },
     "execution_count": 9,
     "metadata": {},
     "output_type": "execute_result"
    }
   ],
   "source": [
    "regularized_model.compile(optimizer='adam', \n",
    "              loss='categorical_crossentropy', \n",
    "              metrics=['accuracy'])\n",
    "regularized_model.fit(x=x_train,y=y_train, batch_size=128, epochs=10, validation_data=(x_test, y_test))"
   ]
  },
  {
   "cell_type": "code",
   "execution_count": 10,
   "metadata": {},
   "outputs": [
    {
     "name": "stdout",
     "output_type": "stream",
     "text": [
      "Train on 60000 samples, validate on 10000 samples\n",
      "Epoch 1/10\n",
      "60000/60000 [==============================] - 3s 48us/sample - loss: 0.2558 - accuracy: 0.9258 - val_loss: 0.1235 - val_accuracy: 0.9614\n",
      "Epoch 2/10\n",
      "60000/60000 [==============================] - 3s 42us/sample - loss: 0.0999 - accuracy: 0.9695 - val_loss: 0.0912 - val_accuracy: 0.9707\n",
      "Epoch 3/10\n",
      "60000/60000 [==============================] - 3s 48us/sample - loss: 0.0676 - accuracy: 0.9783 - val_loss: 0.0832 - val_accuracy: 0.9733\n",
      "Epoch 4/10\n",
      "60000/60000 [==============================] - 3s 43us/sample - loss: 0.0520 - accuracy: 0.9831 - val_loss: 0.0666 - val_accuracy: 0.9786\n",
      "Epoch 5/10\n",
      "60000/60000 [==============================] - 2s 40us/sample - loss: 0.0418 - accuracy: 0.9863 - val_loss: 0.0728 - val_accuracy: 0.9768\n",
      "Epoch 6/10\n",
      "60000/60000 [==============================] - 2s 41us/sample - loss: 0.0333 - accuracy: 0.9888 - val_loss: 0.0737 - val_accuracy: 0.9777\n",
      "Epoch 7/10\n",
      "60000/60000 [==============================] - 3s 45us/sample - loss: 0.0288 - accuracy: 0.9904 - val_loss: 0.0812 - val_accuracy: 0.9758\n",
      "Epoch 8/10\n",
      "60000/60000 [==============================] - 3s 42us/sample - loss: 0.0259 - accuracy: 0.9912 - val_loss: 0.0736 - val_accuracy: 0.9794\n",
      "Epoch 9/10\n",
      "60000/60000 [==============================] - 2s 41us/sample - loss: 0.0237 - accuracy: 0.9920 - val_loss: 0.0782 - val_accuracy: 0.9787\n",
      "Epoch 10/10\n",
      "60000/60000 [==============================] - 2s 41us/sample - loss: 0.0185 - accuracy: 0.9938 - val_loss: 0.0873 - val_accuracy: 0.9784\n"
     ]
    },
    {
     "data": {
      "text/plain": [
       "<tensorflow.python.keras.callbacks.History at 0x147e62f43c8>"
      ]
     },
     "execution_count": 10,
     "metadata": {},
     "output_type": "execute_result"
    }
   ],
   "source": [
    "robust_model.compile(optimizer='adam', \n",
    "              loss='categorical_crossentropy', \n",
    "              metrics=['accuracy'])\n",
    "robust_model.fit(x=x_train,y=y_train, batch_size=128, epochs=10, validation_data=(x_test, y_test))"
   ]
  },
  {
   "cell_type": "markdown",
   "metadata": {},
   "source": [
    "## Rotate image"
   ]
  },
  {
   "cell_type": "code",
   "execution_count": 11,
   "metadata": {},
   "outputs": [],
   "source": [
    "index = np.argwhere(np.argmax(y_train, axis=1)==2)[0][0]\n",
    "x = x_train[index]\n",
    "x = np.expand_dims(x, axis=0)\n",
    "y = y_train[index]"
   ]
  },
  {
   "cell_type": "code",
   "execution_count": 12,
   "metadata": {},
   "outputs": [],
   "source": [
    "result = []\n",
    "rotations = [0,20,40,60,80,100,120]\n",
    "for i in rotations:\n",
    "    t = ndimage.rotate(input=x[0,:,:,0], angle=i, reshape=False)\n",
    "    t = np.expand_dims(t, axis=0)\n",
    "    t = np.expand_dims(t, axis=-1)\n",
    "    _, y_mean, y_var = predict_robust(robust_model, t)\n",
    "    y_simple = simple_model.predict(t)\n",
    "    y_regularied = regularized_model.predict(t)\n",
    "    result.append([i, y_mean[0], y_var[0], t[0,:,:,0], y_simple, y_regularied])\n"
   ]
  },
  {
   "cell_type": "code",
   "execution_count": 13,
   "metadata": {
    "scrolled": false
   },
   "outputs": [
    {
     "name": "stdout",
     "output_type": "stream",
     "text": [
      "\n",
      "Rotation: 0\n"
     ]
    },
    {
     "data": {
      "image/png": "[encoded data removed]",
      "text/plain": [
       "<Figure size 432x288 with 1 Axes>"
      ]
     },
     "metadata": {
      "needs_background": "light"
     },
     "output_type": "display_data"
    },
    {
     "name": "stdout",
     "output_type": "stream",
     "text": [
      "0 \t Mean: 1.1844272194139194e-06, \t Variance: 7.761050482835152e-12, \n",
      "\t y_simple: 8.221995133339544e-12 y_reg: 8.298327580646969e-10\n",
      "\n",
      "1 \t Mean: 6.07119199358408e-09, \t Variance: 1.5028922126745302e-17, \n",
      "\t y_simple: 4.523156604818723e-08 y_reg: 1.0426203971292125e-06\n",
      "\n",
      "2 \t Mean: 0.9999947547912598, \t Variance: 1.8508217528023785e-11, \n",
      "\t y_simple: 0.9999998807907104 y_reg: 0.9999568462371826\n",
      "\n",
      "3 \t Mean: 2.377519422225305e-06, \t Variance: 3.0399450318130405e-12, \n",
      "\t y_simple: 1.1452927850541528e-07 y_reg: 7.03459772921633e-06\n",
      "\n",
      "4 \t Mean: 1.4075439480620844e-08, \t Variance: 5.254268720991369e-16, \n",
      "\t y_simple: 1.0829941804457732e-10 y_reg: 7.346639963046186e-10\n",
      "\n",
      "5 \t Mean: 3.7789817497468903e-07, \t Variance: 1.4451056996010736e-13, \n",
      "\t y_simple: 3.9447647925960894e-10 y_reg: 1.9522341077049532e-08\n",
      "\n",
      "6 \t Mean: 6.205706171158454e-08, \t Variance: 3.4656630440199924e-15, \n",
      "\t y_simple: 2.5153248928155847e-10 y_reg: 1.449735609337921e-10\n",
      "\n",
      "7 \t Mean: 3.721214625329594e-07, \t Variance: 9.02205420831928e-14, \n",
      "\t y_simple: 1.425333717719468e-08 y_reg: 3.381666465429589e-05\n",
      "\n",
      "8 \t Mean: 8.959476645031828e-07, \t Variance: 1.5786974592174596e-12, \n",
      "\t y_simple: 7.639265220404923e-09 y_reg: 1.1557309562704177e-06\n",
      "\n",
      "9 \t Mean: 7.73346098270622e-09, \t Variance: 4.422954058260148e-16, \n",
      "\t y_simple: 1.361355906476236e-11 y_reg: 2.67549560284408e-09\n",
      "\n",
      "\n",
      "Rotation: 20\n"
     ]
    },
    {
     "data": {
      "image/png": "[encoded data removed]",
      "text/plain": [
       "<Figure size 432x288 with 1 Axes>"
      ]
     },
     "metadata": {
      "needs_background": "light"
     },
     "output_type": "display_data"
    },
    {
     "name": "stdout",
     "output_type": "stream",
     "text": [
      "0 \t Mean: 5.931183295615483e-06, \t Variance: 5.233908792479092e-11, \n",
      "\t y_simple: 0.00034232967300340533 y_reg: 5.878205683984561e-06\n",
      "\n",
      "1 \t Mean: 2.1071930689231522e-07, \t Variance: 1.1419171001576106e-13, \n",
      "\t y_simple: 2.2053754946682602e-05 y_reg: 1.1952844033658039e-05\n",
      "\n",
      "2 \t Mean: 0.9997749328613281, \t Variance: 1.4025387073957063e-08, \n",
      "\t y_simple: 0.9280242323875427 y_reg: 0.9971060156822205\n",
      "\n",
      "3 \t Mean: 2.5276565907006443e-07, \t Variance: 4.876193849742694e-14, \n",
      "\t y_simple: 0.0019550537690520287 y_reg: 0.00032787921372801065\n",
      "\n",
      "4 \t Mean: 4.414660565998929e-07, \t Variance: 8.722604344542362e-13, \n",
      "\t y_simple: 2.18853841715827e-07 y_reg: 3.8864851603648276e-07\n",
      "\n",
      "5 \t Mean: 1.5839269895678854e-09, \t Variance: 4.3949818208810345e-18, \n",
      "\t y_simple: 7.320750938788478e-08 y_reg: 1.2493450185502297e-07\n",
      "\n",
      "6 \t Mean: 3.016042171566369e-07, \t Variance: 1.590162734561168e-13, \n",
      "\t y_simple: 4.719634887351276e-07 y_reg: 2.0370745801301382e-07\n",
      "\n",
      "7 \t Mean: 7.574204119009664e-06, \t Variance: 1.8460152850785505e-10, \n",
      "\t y_simple: 1.8102988178725354e-05 y_reg: 0.0020298240706324577\n",
      "\n",
      "8 \t Mean: 0.00021046023175586015, \t Variance: 1.1959171430930837e-08, \n",
      "\t y_simple: 0.06963730603456497 y_reg: 0.0005176339182071388\n",
      "\n",
      "9 \t Mean: 6.182036549340353e-10, \t Variance: 2.20933241449952e-18, \n",
      "\t y_simple: 8.738992818280167e-08 y_reg: 1.4606460752020212e-07\n",
      "\n",
      "\n",
      "Rotation: 40\n"
     ]
    },
    {
     "data": {
      "image/png": "[encoded data removed]",
      "text/plain": [
       "<Figure size 432x288 with 1 Axes>"
      ]
     },
     "metadata": {
      "needs_background": "light"
     },
     "output_type": "display_data"
    },
    {
     "name": "stdout",
     "output_type": "stream",
     "text": [
      "0 \t Mean: 7.700054266024381e-05, \t Variance: 5.171113759416812e-09, \n",
      "\t y_simple: 2.9037579452051432e-08 y_reg: 9.499179896010901e-07\n",
      "\n",
      "1 \t Mean: 6.073150160545993e-08, \t Variance: 4.9806371626005905e-15, \n",
      "\t y_simple: 1.3244701169146111e-10 y_reg: 8.134649220892243e-08\n",
      "\n",
      "2 \t Mean: 5.588059138972312e-06, \t Variance: 3.4240797697204783e-11, \n",
      "\t y_simple: 3.9164369525224174e-09 y_reg: 1.6764864767537802e-06\n",
      "\n",
      "3 \t Mean: 8.778411938692443e-06, \t Variance: 3.7554034881814857e-10, \n",
      "\t y_simple: 5.8467630736913634e-08 y_reg: 1.5319310477934778e-05\n",
      "\n",
      "4 \t Mean: 3.4052856790367514e-05, \t Variance: 2.282090294514205e-09, \n",
      "\t y_simple: 2.0225112251637256e-08 y_reg: 0.0001222032296936959\n",
      "\n",
      "5 \t Mean: 1.0810016419782187e-06, \t Variance: 3.849730430272036e-12, \n",
      "\t y_simple: 2.504856544405243e-09 y_reg: 4.777195954375202e-06\n",
      "\n",
      "6 \t Mean: 1.036894627759466e-05, \t Variance: 5.882082598773763e-10, \n",
      "\t y_simple: 1.0386114581706352e-06 y_reg: 8.573506420361809e-07\n",
      "\n",
      "7 \t Mean: 4.444375736056827e-05, \t Variance: 2.428869771975428e-09, \n",
      "\t y_simple: 1.6664394308918418e-07 y_reg: 6.95727503625676e-05\n",
      "\n",
      "8 \t Mean: 0.9992868304252625, \t Variance: 2.6043876459880266e-06, \n",
      "\t y_simple: 0.9999964237213135 y_reg: 0.9927353858947754\n",
      "\n",
      "9 \t Mean: 0.0005318104522302747, \t Variance: 2.3896627681097016e-06, \n",
      "\t y_simple: 2.2819065179646714e-06 y_reg: 0.0070491814985871315\n",
      "\n",
      "\n",
      "Rotation: 60\n"
     ]
    },
    {
     "data": {
      "image/png": "[encoded data removed]",
      "text/plain": [
       "<Figure size 432x288 with 1 Axes>"
      ]
     },
     "metadata": {
      "needs_background": "light"
     },
     "output_type": "display_data"
    },
    {
     "name": "stdout",
     "output_type": "stream",
     "text": [
      "0 \t Mean: 0.0005814635660499334, \t Variance: 3.115908384643262e-07, \n",
      "\t y_simple: 1.782886215551116e-06 y_reg: 0.0001196792654809542\n",
      "\n",
      "1 \t Mean: 0.000536904321052134, \t Variance: 1.218662362134637e-07, \n",
      "\t y_simple: 1.697876115258623e-07 y_reg: 0.00011052456829929724\n",
      "\n",
      "2 \t Mean: 0.0004851041885558516, \t Variance: 3.179865188940312e-07, \n",
      "\t y_simple: 1.2082278999514529e-07 y_reg: 7.790830750309397e-06\n",
      "\n",
      "3 \t Mean: 0.0008091251365840435, \t Variance: 2.3403124771448347e-07, \n",
      "\t y_simple: 7.017891039140522e-05 y_reg: 0.00010267791367368773\n",
      "\n",
      "4 \t Mean: 0.00869620032608509, \t Variance: 9.650902211433277e-05, \n",
      "\t y_simple: 0.0007706624455749989 y_reg: 0.030374977737665176\n",
      "\n",
      "5 \t Mean: 0.0023751009721308947, \t Variance: 5.893564775760751e-06, \n",
      "\t y_simple: 6.578381999133853e-06 y_reg: 0.0017589875496923923\n",
      "\n",
      "6 \t Mean: 0.0032950385939329863, \t Variance: 9.296287316828966e-06, \n",
      "\t y_simple: 1.6801708625280298e-05 y_reg: 0.0019908896647393703\n",
      "\n",
      "7 \t Mean: 0.052896566689014435, \t Variance: 0.00339503469876945, \n",
      "\t y_simple: 0.0011044226121157408 y_reg: 0.06734739989042282\n",
      "\n",
      "8 \t Mean: 0.9258133172988892, \t Variance: 0.003919299226254225, \n",
      "\t y_simple: 0.9901581406593323 y_reg: 0.7038474082946777\n",
      "\n",
      "9 \t Mean: 0.0045111826620996, \t Variance: 5.656777648255229e-05, \n",
      "\t y_simple: 0.007871126756072044 y_reg: 0.19433970749378204\n",
      "\n",
      "\n",
      "Rotation: 80\n"
     ]
    },
    {
     "data": {
      "image/png": "[encoded data removed]",
      "text/plain": [
       "<Figure size 432x288 with 1 Axes>"
      ]
     },
     "metadata": {
      "needs_background": "light"
     },
     "output_type": "display_data"
    },
    {
     "name": "stdout",
     "output_type": "stream",
     "text": [
      "0 \t Mean: 0.0028891433030366898, \t Variance: 3.7414035887195496e-06, \n",
      "\t y_simple: 3.60443809768185e-05 y_reg: 6.699279038002715e-05\n",
      "\n",
      "1 \t Mean: 0.0021722163073718548, \t Variance: 6.521717068608268e-07, \n",
      "\t y_simple: 0.0003398500266484916 y_reg: 0.03515855595469475\n",
      "\n",
      "2 \t Mean: 0.00030845304718241096, \t Variance: 1.651443426453625e-08, \n",
      "\t y_simple: 1.4090568356550648e-07 y_reg: 8.682211773702875e-05\n",
      "\n",
      "3 \t Mean: 0.12158405780792236, \t Variance: 0.0037713940255343914, \n",
      "\t y_simple: 0.010486982762813568 y_reg: 0.02959117479622364\n",
      "\n",
      "4 \t Mean: 0.42695850133895874, \t Variance: 0.05750807002186775, \n",
      "\t y_simple: 0.3007132411003113 y_reg: 0.4959195554256439\n",
      "\n",
      "5 \t Mean: 0.003216319251805544, \t Variance: 6.572895017598057e-06, \n",
      "\t y_simple: 0.0008061114349402487 y_reg: 0.0013063994701951742\n",
      "\n",
      "6 \t Mean: 5.074064392829314e-05, \t Variance: 5.747460285476791e-10, \n",
      "\t y_simple: 6.162953809507599e-07 y_reg: 8.169685315806419e-06\n",
      "\n",
      "7 \t Mean: 0.1338692009449005, \t Variance: 0.005694965831935406, \n",
      "\t y_simple: 0.014036835171282291 y_reg: 0.01623672991991043\n",
      "\n",
      "8 \t Mean: 0.26642200350761414, \t Variance: 0.052671946585178375, \n",
      "\t y_simple: 0.01941632106900215 y_reg: 0.21498551964759827\n",
      "\n",
      "9 \t Mean: 0.04252935200929642, \t Variance: 0.0007352264365181327, \n",
      "\t y_simple: 0.6541638374328613 y_reg: 0.20664015412330627\n",
      "\n",
      "\n",
      "Rotation: 100\n"
     ]
    },
    {
     "data": {
      "image/png": "[encoded data removed]",
      "text/plain": [
       "<Figure size 432x288 with 1 Axes>"
      ]
     },
     "metadata": {
      "needs_background": "light"
     },
     "output_type": "display_data"
    },
    {
     "name": "stdout",
     "output_type": "stream",
     "text": [
      "0 \t Mean: 0.13658052682876587, \t Variance: 0.029797781258821487, \n",
      "\t y_simple: 0.0021137259900569916 y_reg: 0.02466415800154209\n",
      "\n",
      "1 \t Mean: 9.152650818577968e-06, \t Variance: 4.322999597183852e-11, \n",
      "\t y_simple: 9.953857897926355e-07 y_reg: 1.6938563931034878e-05\n",
      "\n",
      "2 \t Mean: 0.02789301611483097, \t Variance: 0.0007967998972162604, \n",
      "\t y_simple: 7.324921170948073e-05 y_reg: 0.00018086678755935282\n",
      "\n",
      "3 \t Mean: 0.5129873752593994, \t Variance: 0.08809889853000641, \n",
      "\t y_simple: 0.9222168326377869 y_reg: 0.7194288372993469\n",
      "\n",
      "4 \t Mean: 0.005110303871333599, \t Variance: 7.429130346281454e-05, \n",
      "\t y_simple: 0.002226020209491253 y_reg: 7.1018880589690525e-06\n",
      "\n",
      "5 \t Mean: 0.0015492405509576201, \t Variance: 6.098746894167562e-07, \n",
      "\t y_simple: 0.001908235950395465 y_reg: 0.012416788376867771\n",
      "\n",
      "6 \t Mean: 0.0003873172390740365, \t Variance: 1.124791424444993e-06, \n",
      "\t y_simple: 0.00015898607671260834 y_reg: 3.957194167014677e-06\n",
      "\n",
      "7 \t Mean: 0.0011305306106805801, \t Variance: 2.3924079073367466e-07, \n",
      "\t y_simple: 2.744698394963052e-05 y_reg: 2.4236636818386614e-05\n",
      "\n",
      "8 \t Mean: 0.003464585170149803, \t Variance: 3.7721696571679786e-05, \n",
      "\t y_simple: 0.011055118404328823 y_reg: 0.0238285381346941\n",
      "\n",
      "9 \t Mean: 0.31088799238204956, \t Variance: 0.03989239037036896, \n",
      "\t y_simple: 0.060219306498765945 y_reg: 0.21942852437496185\n",
      "\n",
      "\n",
      "Rotation: 120\n"
     ]
    },
    {
     "data": {
      "image/png": "[encoded data removed]",
      "text/plain": [
       "<Figure size 432x288 with 1 Axes>"
      ]
     },
     "metadata": {
      "needs_background": "light"
     },
     "output_type": "display_data"
    },
    {
     "name": "stdout",
     "output_type": "stream",
     "text": [
      "0 \t Mean: 0.9159534573554993, \t Variance: 0.004330787807703018, \n",
      "\t y_simple: 0.999581515789032 y_reg: 0.8755454421043396\n",
      "\n",
      "1 \t Mean: 6.321823207144917e-07, \t Variance: 2.498753428562678e-13, \n",
      "\t y_simple: 1.1282010048407898e-10 y_reg: 3.7532663554884493e-06\n",
      "\n",
      "2 \t Mean: 0.006030387245118618, \t Variance: 1.789565067156218e-05, \n",
      "\t y_simple: 1.0768444980158165e-07 y_reg: 0.005444603506475687\n",
      "\n",
      "3 \t Mean: 0.043657273054122925, \t Variance: 0.002787854988127947, \n",
      "\t y_simple: 0.00021113666298333555 y_reg: 0.10500023514032364\n",
      "\n",
      "4 \t Mean: 3.884327088599093e-05, \t Variance: 8.890248537340995e-10, \n",
      "\t y_simple: 7.714569250083514e-08 y_reg: 4.892622200713959e-07\n",
      "\n",
      "5 \t Mean: 0.0027711738366633654, \t Variance: 1.2832502761739306e-05, \n",
      "\t y_simple: 9.131381943916494e-07 y_reg: 0.00025663641281425953\n",
      "\n",
      "6 \t Mean: 0.01835072785615921, \t Variance: 0.0003626889956649393, \n",
      "\t y_simple: 0.00020161696011200547 y_reg: 0.00012297939974814653\n",
      "\n",
      "7 \t Mean: 0.0025480655021965504, \t Variance: 2.7397447865951108e-06, \n",
      "\t y_simple: 8.479781854475732e-08 y_reg: 0.0017656361451372504\n",
      "\n",
      "8 \t Mean: 0.010510647669434547, \t Variance: 9.727947326609865e-05, \n",
      "\t y_simple: 1.865116246335674e-06 y_reg: 0.0019240847323089838\n",
      "\n",
      "9 \t Mean: 0.00013883081555832177, \t Variance: 3.050019969919049e-08, \n",
      "\t y_simple: 2.558154619691777e-06 y_reg: 0.009936023503541946\n",
      "\n"
     ]
    }
   ],
   "source": [
    "for r in result:\n",
    "    print()\n",
    "    print(f'Rotation: {r[0]}')\n",
    "    plt.imshow(r[3], cmap='gray')\n",
    "    plt.show()\n",
    "    for i in range(10):        \n",
    "        print(f'{i} \\t Mean: {r[1][i]}, \\t Variance: {r[2][i]}, \\n\\t y_simple: {r[4][0][i]} y_reg: {r[5][0][i]}')\n",
    "        print()"
   ]
  },
  {
   "cell_type": "markdown",
   "metadata": {},
   "source": [
    "## Adversarial Attacks"
   ]
  },
  {
   "cell_type": "code",
   "execution_count": 14,
   "metadata": {},
   "outputs": [],
   "source": [
    "loss_object = tf.keras.losses.CategoricalCrossentropy()\n",
    "\n",
    "def create_adversarial_pattern(input_image, input_label, model):\n",
    "    with tf.GradientTape() as tape:\n",
    "        tape.watch(input_image)\n",
    "        #if model['name'] == 'robust':\n",
    "        #    _, prediction, _ = predict_robust(model['model'], input_image)\n",
    "        #else:\n",
    "        prediction = model['model'](input_image)\n",
    "        #prediction = model(input_image)\n",
    "        loss = loss_object(input_label, prediction)\n",
    "    \n",
    "    # Get the gradients of the loss w.r.t to the input image.\n",
    "    gradient = tape.gradient(loss, input_image)\n",
    "    # Get the sign of the gradients to create the perturbation\n",
    "    signed_grad = tf.sign(gradient)    \n",
    "    return signed_grad"
   ]
  },
  {
   "cell_type": "code",
   "execution_count": 15,
   "metadata": {},
   "outputs": [],
   "source": [
    "def display_images(input_image, eps, perturbations, description, models):    \n",
    "    fig, axs = plt.subplots(1, len(models), figsize=(15,15))\n",
    "    for m in range(len(models)):\n",
    "        adv_x = input_image + eps*perturbations[m]\n",
    "        adv_x = tf.clip_by_value(adv_x, 0, 1)\n",
    "        if models[m]['type'] == 'Multi':\n",
    "            _, prediction, _ = predict_robust(models[m]['model'], adv_x)\n",
    "        else:\n",
    "            prediction = models[m]['model'](adv_x)\n",
    "        axs[m].imshow(adv_x[0,:,:,0], cmap = 'gray')\n",
    "        axs[m].title.set_text('{} \\n {} : {:.2f}% Confidence'.format(description, np.argmax(prediction), prediction[0][np.argmax(prediction)]*100))\n",
    "    plt.show()"
   ]
  },
  {
   "cell_type": "code",
   "execution_count": 16,
   "metadata": {
    "scrolled": false
   },
   "outputs": [
    {
     "name": "stdout",
     "output_type": "stream",
     "text": [
      "5\n"
     ]
    },
    {
     "data": {
      "image/png": "[encoded data removed]",
      "text/plain": [
       "<Figure size 1080x1080 with 6 Axes>"
      ]
     },
     "metadata": {
      "needs_background": "light"
     },
     "output_type": "display_data"
    },
    {
     "data": {
      "image/png": "[encoded data removed]",
      "text/plain": [
       "<Figure size 1080x1080 with 6 Axes>"
      ]
     },
     "metadata": {
      "needs_background": "light"
     },
     "output_type": "display_data"
    },
    {
     "data": {
      "image/png": "[encoded data removed]",
      "text/plain": [
       "<Figure size 1080x1080 with 6 Axes>"
      ]
     },
     "metadata": {
      "needs_background": "light"
     },
     "output_type": "display_data"
    },
    {
     "data": {
      "image/png": "[encoded data removed]",
      "text/plain": [
       "<Figure size 1080x1080 with 6 Axes>"
      ]
     },
     "metadata": {
      "needs_background": "light"
     },
     "output_type": "display_data"
    },
    {
     "data": {
      "image/png": "[encoded data removed]",
      "text/plain": [
       "<Figure size 1080x1080 with 6 Axes>"
      ]
     },
     "metadata": {
      "needs_background": "light"
     },
     "output_type": "display_data"
    },
    {
     "data": {
      "image/png": "[encoded data removed]",
      "text/plain": [
       "<Figure size 1080x1080 with 6 Axes>"
      ]
     },
     "metadata": {
      "needs_background": "light"
     },
     "output_type": "display_data"
    },
    {
     "data": {
      "image/png": "[encoded data removed]",
      "text/plain": [
       "<Figure size 1080x1080 with 6 Axes>"
      ]
     },
     "metadata": {
      "needs_background": "light"
     },
     "output_type": "display_data"
    },
    {
     "data": {
      "image/png": "[encoded data removed]",
      "text/plain": [
       "<Figure size 1080x1080 with 6 Axes>"
      ]
     },
     "metadata": {
      "needs_background": "light"
     },
     "output_type": "display_data"
    }
   ],
   "source": [
    "epsilons = [0, 0.01, 0.1, 0.15, 0.2, 0.25, 0.3]\n",
    "descriptions = [('Epsilon = {:0.3f}'.format(eps) if eps else 'Input')\n",
    "                for eps in epsilons]\n",
    "\n",
    "index = np.argwhere(np.argmax(y_train, axis=1)==2)[0][0]\n",
    "print(index)\n",
    "x = x_train[index]\n",
    "x = np.expand_dims(x, axis=0)\n",
    "y = y_train[index]\n",
    "\n",
    "models = [{'name': 'simple',\n",
    "           'type': 'Normal',\n",
    "          'model': simple_model},\n",
    "          {'name': 'simple',\n",
    "           'type': 'Multi',\n",
    "          'model': simple_model},\n",
    "          {'name': 'reg',\n",
    "           'type': 'Normal',\n",
    "          'model': regularized_model},\n",
    "          {'name': 'reg',\n",
    "           'type': 'Multi',\n",
    "          'model': regularized_model},\n",
    "          {'name': 'robust',\n",
    "           'type': 'Normal',\n",
    "          'model': robust_model},\n",
    "          {'name': 'robust',\n",
    "           'type': 'Multi',\n",
    "          'model': robust_model}]\n",
    "fig, axs = plt.subplots(1, len(models), figsize=(15,15))\n",
    "perturbations = []\n",
    "input_image = tf.convert_to_tensor(x)\n",
    "\n",
    "for m in range(len(models)):\n",
    "    if models[m]['type'] != 'Multi':\n",
    "        input_label = y #models[m]['model'](input_image)        \n",
    "        perturbation = create_adversarial_pattern(input_image, input_label, models[m])\n",
    "    else:\n",
    "        assert models[m]['name'] == models[m-1]['name']\n",
    "        perturbation = perturbations[m-1]   \n",
    "    axs[m].imshow(perturbation[0,:,:,0], cmap = 'gray')\n",
    "    perturbations.append(perturbation)\n",
    "plt.show()\n",
    "\n",
    "for i, eps in enumerate(epsilons):    \n",
    "    display_images(input_image, eps, perturbations, descriptions[i], models)"
   ]
  }
 ],
 "metadata": {
  "kernelspec": {
   "display_name": "Python [conda env:tf2]",
   "language": "python",
   "name": "conda-env-tf2-py"
  },
  "language_info": {
   "codemirror_mode": {
    "name": "ipython",
    "version": 3
   },
   "file_extension": ".py",
   "mimetype": "text/x-python",
   "name": "python",
   "nbconvert_exporter": "python",
   "pygments_lexer": "ipython3",
   "version": "3.7.3"
  }
 },
 "nbformat": 4,
 "nbformat_minor": 2
}
